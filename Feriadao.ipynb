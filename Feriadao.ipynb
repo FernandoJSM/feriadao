{
  "nbformat": 4,
  "nbformat_minor": 0,
  "metadata": {
    "colab": {
      "provenance": []
    },
    "kernelspec": {
      "name": "python3",
      "display_name": "Python 3"
    },
    "language_info": {
      "name": "python"
    }
  },
  "cells": [
    {
      "cell_type": "code",
      "execution_count": 55,
      "metadata": {
        "id": "D_PSK2_XF3eq"
      },
      "outputs": [],
      "source": [
        "import datetime"
      ]
    },
    {
      "cell_type": "markdown",
      "source": [
        "* Definição do ano da simulação;\n",
        "* Listagem de feriados em dicionário:\n",
        "\"DD/MM\": \"Feriado X\""
      ],
      "metadata": {
        "id": "rfrVfJPmF91h"
      }
    },
    {
      "cell_type": "code",
      "source": [
        "year = 2026\n",
        "holidays = {\n",
        "    \"01/01\": \"Confraternização Universal\",\n",
        "    \"21/04\": \"Tiradentes\",\n",
        "    \"01/05\": \"Dia Mundial do Trabalho\",\n",
        "    \"07/09\": \"Independência do Brasil\",\n",
        "    \"12/10\": \"Nossa Senhora Aparecida\",\n",
        "    \"02/11\": \"Finados\",\n",
        "    \"15/11\": \"Proclamação da República\",\n",
        "    \"25/12\": \"Natal\"\n",
        "}\n",
        "\n",
        "weekday_map = {\n",
        "    0: \"Segunda\",\n",
        "    3: \"Quinta\",\n",
        "    4: \"Sexta\"\n",
        "}"
      ],
      "metadata": {
        "id": "aiI0My1cF9a5"
      },
      "execution_count": 56,
      "outputs": []
    },
    {
      "cell_type": "markdown",
      "source": [
        "Cálculo das datas do Carnaval e Corpus Christi, conforme a [fórmula de Gauss](https://www.inf.ufrgs.br/~cabral/Pascoa.html)"
      ],
      "metadata": {
        "id": "AfZ4zBrtKDsD"
      }
    },
    {
      "cell_type": "code",
      "source": [
        "year=2023\n",
        "if 2020<=year<=2099:\n",
        "  x,y = 24,5\n",
        "else:\n",
        "  raise Exception(\"Ano fora da faixa definida.\")\n",
        "\n",
        "a = year % 19\n",
        "b = year % 4\n",
        "c = year % 7\n",
        "d = (19 * a + x) % 30\n",
        "e = (2 * b + 4 * c + 6 * d + y) % 7\n",
        "\n",
        "if (d+e)>9:\n",
        "\teaster_day = d + e - 9\n",
        "\teaster_month = 4\n",
        "else:\n",
        "\teaster_day = d + e + 22\n",
        "\teaster_month = 3\n",
        "\n",
        "if easter_day==26 and easter_month==4:\n",
        "  easter_day=19\n",
        "\n",
        "if a>10 and d==28 and easter_day==25 and easter_month==4:\n",
        "  easter_day=18\n",
        "\n",
        "easter = datetime.datetime(day=easter_day, month=easter_month, year=year)\n",
        "carnival = easter - datetime.timedelta(days=47)\n",
        "corpus_christi = easter + datetime.timedelta(days=60)\n",
        "\n",
        "holidays[easter.strftime(\"%d/%m\")] = \"Páscoa\"\n",
        "holidays[carnival.strftime(\"%d/%m\")] = \"Carnaval\"\n",
        "holidays[corpus_christi.strftime(\"%d/%m\")] = \"Corpus Christi\"\n",
        "\n"
      ],
      "metadata": {
        "id": "4uEQP02OKDJC"
      },
      "execution_count": 57,
      "outputs": []
    },
    {
      "cell_type": "code",
      "source": [
        "print(\"Buscando feriadões...\\n\")\n",
        "\n",
        "for key, value in sorted(holidays.items()):\n",
        "  datestr = key + \"/\" + str(year)\n",
        "  date = datetime.datetime.strptime(datestr, \"%d/%m/%Y\")\n",
        "\n",
        "  weekday = date.weekday()\n",
        "\n",
        "  if weekday in [0, 3, 4]:\n",
        "    print(f\"Feriadão no dia {datestr} (\" + weekday_map[weekday] + \"): \" + holidays[key])"
      ],
      "metadata": {
        "colab": {
          "base_uri": "https://localhost:8080/"
        },
        "id": "CUwjhBkUG0wC",
        "outputId": "cdf7ae8b-2132-448c-af6f-4ba1db20bd38"
      },
      "execution_count": 60,
      "outputs": [
        {
          "output_type": "stream",
          "name": "stdout",
          "text": [
            "Buscando feriadões...\n",
            "\n",
            "Feriadão no dia 01/05/2023 (Segunda): Dia Mundial do Trabalho\n",
            "Feriadão no dia 02/11/2023 (Quinta): Finados\n",
            "Feriadão no dia 07/09/2023 (Quinta): Independência do Brasil\n",
            "Feriadão no dia 08/06/2023 (Quinta): Corpus Christi\n",
            "Feriadão no dia 12/10/2023 (Quinta): Nossa Senhora Aparecida\n",
            "Feriadão no dia 21/04/2023 (Sexta): Tiradentes\n",
            "Feriadão no dia 25/12/2023 (Segunda): Natal\n"
          ]
        }
      ]
    }
  ]
}
